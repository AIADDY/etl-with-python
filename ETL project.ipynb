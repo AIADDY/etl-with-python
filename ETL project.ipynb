{
 "cells": [
  {
   "cell_type": "code",
   "execution_count": 1,
   "id": "d2ab94e1-5f6d-4b97-96a8-89ccde36d3ed",
   "metadata": {},
   "outputs": [
    {
     "name": "stdout",
     "output_type": "stream",
     "text": [
      "Requirement already satisfied: icecream in c:\\users\\user\\anaconda3\\lib\\site-packages (2.1.3)\n",
      "Requirement already satisfied: colorama>=0.3.9 in c:\\users\\user\\appdata\\roaming\\python\\python311\\site-packages (from icecream) (0.4.6)\n",
      "Requirement already satisfied: pygments>=2.2.0 in c:\\users\\user\\appdata\\roaming\\python\\python311\\site-packages (from icecream) (2.18.0)\n",
      "Requirement already satisfied: executing>=0.3.1 in c:\\users\\user\\appdata\\roaming\\python\\python311\\site-packages (from icecream) (2.0.1)\n",
      "Requirement already satisfied: asttokens>=2.0.1 in c:\\users\\user\\appdata\\roaming\\python\\python311\\site-packages (from icecream) (2.4.1)\n",
      "Requirement already satisfied: six>=1.12.0 in c:\\users\\user\\appdata\\roaming\\python\\python311\\site-packages (from asttokens>=2.0.1->icecream) (1.16.0)\n"
     ]
    }
   ],
   "source": [
    "!pip install icecream"
   ]
  },
  {
   "cell_type": "code",
   "execution_count": 2,
   "id": "3c25211f-2841-4c63-8e3f-a646616c997c",
   "metadata": {},
   "outputs": [],
   "source": [
    "from io import StringIO\n",
    "import requests  # BASIC LIB FOR EXTRACTING DATA FROM APIS AND SERVERS ETC\n",
    "from bs4 import BeautifulSoup # to provide us passing facilities of html files\n",
    "import pandas as pd # for transformation of raw data\n",
    "import sqlite3 # to load data\n",
    "from datetime import datetime #kis time pr konsa log perform horha ya koi error aarha\n",
    "from icecream import ic "
   ]
  },
  {
   "cell_type": "code",
   "execution_count": 3,
   "id": "201a2e8c-871b-4bc5-b311-7b285b42bbde",
   "metadata": {},
   "outputs": [
    {
     "name": "stdout",
     "output_type": "stream",
     "text": [
      "Requirement already satisfied: icecream in c:\\users\\user\\anaconda3\\lib\\site-packages (2.1.3)\n",
      "Requirement already satisfied: colorama>=0.3.9 in c:\\users\\user\\appdata\\roaming\\python\\python311\\site-packages (from icecream) (0.4.6)\n",
      "Requirement already satisfied: pygments>=2.2.0 in c:\\users\\user\\appdata\\roaming\\python\\python311\\site-packages (from icecream) (2.18.0)\n",
      "Requirement already satisfied: executing>=0.3.1 in c:\\users\\user\\appdata\\roaming\\python\\python311\\site-packages (from icecream) (2.0.1)\n",
      "Requirement already satisfied: asttokens>=2.0.1 in c:\\users\\user\\appdata\\roaming\\python\\python311\\site-packages (from icecream) (2.4.1)\n",
      "Requirement already satisfied: six>=1.12.0 in c:\\users\\user\\appdata\\roaming\\python\\python311\\site-packages (from asttokens>=2.0.1->icecream) (1.16.0)\n"
     ]
    }
   ],
   "source": [
    "!pip install icecream"
   ]
  },
  {
   "cell_type": "code",
   "execution_count": 4,
   "id": "ca70a525-5729-46af-83e9-c0f683a5ca45",
   "metadata": {},
   "outputs": [],
   "source": [
    "# step 0 \n",
    "def log_progress(message):\n",
    "    with open (\"./code_log.txt\", \"a\") as f:\n",
    "        f.write(f\"{datetime.now()}. {message}.\\n\")"
   ]
  },
  {
   "cell_type": "code",
   "execution_count": 5,
   "id": "b97f7461-feaa-4960-884b-064225be1386",
   "metadata": {},
   "outputs": [],
   "source": [
    "# Step 1 \n",
    "def extract(url,table_att):\n",
    "    soup = requests.get(url).text\n",
    "    web = BeautifulSoup(soup, \"html.parser\")\n",
    "    table = web.find(\"span\", string=table_att).find_next('table')\n",
    "    df = pd.read_html(StringIO(str(table)))[0]\n",
    "    log_progress(\"Data extracted successfully\")\n",
    "    return df"
   ]
  },
  {
   "cell_type": "code",
   "execution_count": 6,
   "id": "bcd4de7e-6284-4ec3-b5ec-8b31885031e1",
   "metadata": {},
   "outputs": [],
   "source": [
    "#step 2\n",
    "def transformation(df, csv_path):\n",
    "    exchange_rate = pd.read_csv(csv_path, index_col = 0).to_dict()['Rate']\n",
    "\n",
    "    df['MC_GBP_Billion'] = round(df['Market cap (US$ billion)']*exchange_rate['GBP'],2)\n",
    "    df['MC_EUR_Billion'] = round(df['Market cap (US$ billion)']*exchange_rate['EUR'],2)\n",
    "    df['MC_INR_Billion'] = round(df['Market cap (US$ billion)']*exchange_rate['INR'],2)\n",
    "\n",
    "    print(df['MC_EUR_Billion'][4])\n",
    "    log_progress('Data Transformation Successfully done, step 2')\n",
    "\n",
    "    return df"
   ]
  },
  {
   "cell_type": "code",
   "execution_count": 7,
   "id": "71551e20-b09e-435a-9cf2-d8c7c29e2533",
   "metadata": {},
   "outputs": [],
   "source": [
    "#STEP 3 LOAD\n",
    "#CSV\n",
    "def load_to_csv(df,out_path):\n",
    "    df.to_csv(out_path)\n",
    "\n",
    "    log_progress(\"Data loaded into the csv file\")\n",
    "    "
   ]
  },
  {
   "cell_type": "code",
   "execution_count": 11,
   "id": "37a22a25-e4cf-4371-a679-e04980e7c6be",
   "metadata": {},
   "outputs": [],
   "source": [
    "#Step 3 \n",
    "#SQLITE\n",
    "def load_to_db(df,sql_conn, tn):\n",
    "    df.to_sql(tn, sql_conn, if_exists= \"replace\", index= False)\n",
    "    log_progress(\"Data loaded into the SQLITE Database\")"
   ]
  },
  {
   "cell_type": "code",
   "execution_count": 12,
   "id": "504fb346-b255-42af-a8e0-c62ab44be2c0",
   "metadata": {},
   "outputs": [
    {
     "name": "stdout",
     "output_type": "stream",
     "text": [
      "   Rank                                Bank name  Market cap (US$ billion)\n",
      "0     1                           JPMorgan Chase                    432.92\n",
      "1     2                          Bank of America                    231.52\n",
      "2     3  Industrial and Commercial Bank of China                    194.56\n",
      "3     4               Agricultural Bank of China                    160.68\n",
      "4     5                                HDFC Bank                    157.91\n",
      "5     6                              Wells Fargo                    155.87\n",
      "6     7                        HSBC Holdings PLC                    148.90\n",
      "7     8                           Morgan Stanley                    140.83\n",
      "8     9                  China Construction Bank                    139.82\n",
      "9    10                            Bank of China                    136.81\n",
      "146.86\n",
      "   Rank                                Bank name  Market cap (US$ billion)  \\\n",
      "0     1                           JPMorgan Chase                    432.92   \n",
      "1     2                          Bank of America                    231.52   \n",
      "2     3  Industrial and Commercial Bank of China                    194.56   \n",
      "3     4               Agricultural Bank of China                    160.68   \n",
      "4     5                                HDFC Bank                    157.91   \n",
      "5     6                              Wells Fargo                    155.87   \n",
      "6     7                        HSBC Holdings PLC                    148.90   \n",
      "7     8                           Morgan Stanley                    140.83   \n",
      "8     9                  China Construction Bank                    139.82   \n",
      "9    10                            Bank of China                    136.81   \n",
      "\n",
      "   MC_GBP_Billion  MC_EUR_Billion  MC_INR_Billion  \n",
      "0          346.34          402.62        35910.71  \n",
      "1          185.22          215.31        19204.58  \n",
      "2          155.65          180.94        16138.75  \n",
      "3          128.54          149.43        13328.41  \n",
      "4          126.33          146.86        13098.63  \n",
      "5          124.70          144.96        12929.42  \n",
      "6          119.12          138.48        12351.26  \n",
      "7          112.66          130.97        11681.85  \n",
      "8          111.86          130.03        11598.07  \n",
      "9          109.45          127.23        11348.39  \n"
     ]
    }
   ],
   "source": [
    "if __name__ == '__main__':\n",
    "    url = 'https://web.archive.org/web/20230908091635/https://en.wikipedia.org/wiki/List_of_largest_banks'\n",
    "    output_csv_path = './Largest_banks_data.csv'\n",
    "    database_name = 'Banks.db'\n",
    "    table_name = 'Largest_banks'\n",
    "    \n",
    "    log_progress('Preliminaries complete. Initiating ETL process')\n",
    "\n",
    "    df=(extract(url, 'By market capitalization'))\n",
    "    log_progress('Extraction completeed')\n",
    "    print(df)\n",
    "    \n",
    "    df = transformation(df, './exchange_rate.csv')\n",
    "    log_progress('Data Transformed sucessfully')\n",
    "    print(df)\n",
    "    "
   ]
  },
  {
   "cell_type": "code",
   "execution_count": 13,
   "id": "0ff4dbaa-3718-4016-a9a1-7f68a6d6446c",
   "metadata": {},
   "outputs": [
    {
     "name": "stdout",
     "output_type": "stream",
     "text": [
      "   Rank                                Bank name  Market cap (US$ billion)\n",
      "0     1                           JPMorgan Chase                    432.92\n",
      "1     2                          Bank of America                    231.52\n",
      "2     3  Industrial and Commercial Bank of China                    194.56\n",
      "3     4               Agricultural Bank of China                    160.68\n",
      "4     5                                HDFC Bank                    157.91\n",
      "5     6                              Wells Fargo                    155.87\n",
      "6     7                        HSBC Holdings PLC                    148.90\n",
      "7     8                           Morgan Stanley                    140.83\n",
      "8     9                  China Construction Bank                    139.82\n",
      "9    10                            Bank of China                    136.81\n",
      "146.86\n",
      "   Rank                                Bank name  Market cap (US$ billion)  \\\n",
      "0     1                           JPMorgan Chase                    432.92   \n",
      "1     2                          Bank of America                    231.52   \n",
      "2     3  Industrial and Commercial Bank of China                    194.56   \n",
      "3     4               Agricultural Bank of China                    160.68   \n",
      "4     5                                HDFC Bank                    157.91   \n",
      "5     6                              Wells Fargo                    155.87   \n",
      "6     7                        HSBC Holdings PLC                    148.90   \n",
      "7     8                           Morgan Stanley                    140.83   \n",
      "8     9                  China Construction Bank                    139.82   \n",
      "9    10                            Bank of China                    136.81   \n",
      "\n",
      "   MC_GBP_Billion  MC_EUR_Billion  MC_INR_Billion  \n",
      "0          346.34          402.62        35910.71  \n",
      "1          185.22          215.31        19204.58  \n",
      "2          155.65          180.94        16138.75  \n",
      "3          128.54          149.43        13328.41  \n",
      "4          126.33          146.86        13098.63  \n",
      "5          124.70          144.96        12929.42  \n",
      "6          119.12          138.48        12351.26  \n",
      "7          112.66          130.97        11681.85  \n",
      "8          111.86          130.03        11598.07  \n",
      "9          109.45          127.23        11348.39  \n"
     ]
    }
   ],
   "source": [
    "if __name__ == '__main__':\n",
    "    url = 'https://web.archive.org/web/20230908091635/https://en.wikipedia.org/wiki/List_of_largest_banks'\n",
    "    output_csv_path = './Largest_banks_data.csv'\n",
    "    database_name = 'Banks.db'\n",
    "    table_name = 'Largest_banks'\n",
    "    \n",
    "    log_progress('Preliminaries complete. Initiating ETL process')\n",
    "\n",
    "    df=(extract(url, 'By market capitalization'))\n",
    "    log_progress('Extraction completeed')\n",
    "    print(df)\n",
    "    \n",
    "    df = transformation(df, './input/exchange_rate.csv')\n",
    "    log_progress('Data Transformed sucessfully')\n",
    "    print(df)\n",
    "\n",
    "    load_to_csv(df, output_csv_path)\n",
    "    log_progress('DataFrame has beenn loaded into csv')\n",
    "\n",
    "    with sqlite3.connect(database_name) as conn:\n",
    "        load_to_db(df, conn, table_name)\n",
    "    log_progress('DataFrame has been uploaded into the SQlite Database Sucessfully')"
   ]
  },
  {
   "cell_type": "code",
   "execution_count": null,
   "id": "46784e21-28f6-4253-9808-aa30318eff2c",
   "metadata": {},
   "outputs": [],
   "source": []
  },
  {
   "cell_type": "code",
   "execution_count": null,
   "id": "4b25b946-843a-4613-afe9-c7ab85676f53",
   "metadata": {},
   "outputs": [],
   "source": []
  }
 ],
 "metadata": {
  "kernelspec": {
   "display_name": "Python 3 (ipykernel)",
   "language": "python",
   "name": "python3"
  },
  "language_info": {
   "codemirror_mode": {
    "name": "ipython",
    "version": 3
   },
   "file_extension": ".py",
   "mimetype": "text/x-python",
   "name": "python",
   "nbconvert_exporter": "python",
   "pygments_lexer": "ipython3",
   "version": "3.11.7"
  }
 },
 "nbformat": 4,
 "nbformat_minor": 5
}
